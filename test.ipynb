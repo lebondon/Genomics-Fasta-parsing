{
 "cells": [
  {
   "cell_type": "code",
   "execution_count": 21,
   "metadata": {},
   "outputs": [],
   "source": [
    "import pandas as pd\n",
    "from gene_classes import *"
   ]
  },
  {
   "cell_type": "code",
   "execution_count": 22,
   "metadata": {},
   "outputs": [],
   "source": [
    "def build_dataframe_from_file(file_path): \n",
    "    data = []\n",
    "\n",
    "    with open(file_path, \"r\") as file:\n",
    "        while True:\n",
    "            line = file.readline()\n",
    "            if not line:\n",
    "                break \n",
    "\n",
    "            first_line = line.strip()\n",
    "            parts = first_line.split(maxsplit = 1)\n",
    "            sequence_id = parts[0]\n",
    "            sequence_description = parts[1] if len(parts) > 1 else \"\"\n",
    "\n",
    "            sequence = \"\"\n",
    "            while True:\n",
    "                line = file.readline().strip()\n",
    "                if not line or line[0] == \">\":\n",
    "                    break\n",
    "                sequence += line\n",
    "\n",
    "            data.append({\"sequence_id\": sequence_id,\n",
    "                         \"sequence_description\": sequence_description,\n",
    "                         \"sequence\": sequence})\n",
    "            \n",
    "            if line and line[0] == \">\":\n",
    "                file.seek(file.tell() - len(line) - 1)\n",
    "\n",
    "    df = pd.DataFrame(data)\n",
    "    df.set_index(\"sequence_id\", inplace=True)\n",
    "    return df"
   ]
  },
  {
   "cell_type": "code",
   "execution_count": 23,
   "metadata": {},
   "outputs": [],
   "source": [
    "def create_gene_objects(df):\n",
    "    gene_objects = []\n",
    "    for sequence_id, row in df.iterrows():\n",
    "        gene = Gene(sequence_id, row[\"sequence_description\"], row[\"sequence\"])\n",
    "        gene_objects.append(gene)\n",
    "    return gene_objects"
   ]
  },
  {
   "cell_type": "code",
   "execution_count": 24,
   "metadata": {},
   "outputs": [
    {
     "data": {
      "text/html": [
       "<div>\n",
       "<style scoped>\n",
       "    .dataframe tbody tr th:only-of-type {\n",
       "        vertical-align: middle;\n",
       "    }\n",
       "\n",
       "    .dataframe tbody tr th {\n",
       "        vertical-align: top;\n",
       "    }\n",
       "\n",
       "    .dataframe thead th {\n",
       "        text-align: right;\n",
       "    }\n",
       "</style>\n",
       "<table border=\"1\" class=\"dataframe\">\n",
       "  <thead>\n",
       "    <tr style=\"text-align: right;\">\n",
       "      <th></th>\n",
       "      <th>sequence_description</th>\n",
       "      <th>sequence</th>\n",
       "    </tr>\n",
       "    <tr>\n",
       "      <th>sequence_id</th>\n",
       "      <th></th>\n",
       "      <th></th>\n",
       "    </tr>\n",
       "  </thead>\n",
       "  <tbody>\n",
       "    <tr>\n",
       "      <th>&gt;NC_000001</th>\n",
       "      <td>Species_1 mitochondrion, complete genome</td>\n",
       "      <td>CCGGCAGGAACTGCTAACACATAATCGGCGTTTTGAAGTTCGCAAG...</td>\n",
       "    </tr>\n",
       "    <tr>\n",
       "      <th>&gt;NC_000002</th>\n",
       "      <td>Species_2 mitochondrion, complete genome</td>\n",
       "      <td>TAAGTAATCTTGCGCTACACCTGCCTGCTCAAGTTTTTCCCACTAC...</td>\n",
       "    </tr>\n",
       "    <tr>\n",
       "      <th>&gt;NC_000003</th>\n",
       "      <td>Species_3 mitochondrion, complete genome</td>\n",
       "      <td>AAGTCAAAGGCGGGATCATTAACGGCCTTGGGCGACGGGAGTGCCA...</td>\n",
       "    </tr>\n",
       "    <tr>\n",
       "      <th>&gt;NC_000004</th>\n",
       "      <td>Species_4 mitochondrion, complete genome</td>\n",
       "      <td>CTATGCGTCCACAGGGTGATTACGCTGCCAACGGTAATGCAACAGA...</td>\n",
       "    </tr>\n",
       "    <tr>\n",
       "      <th>&gt;NC_000005</th>\n",
       "      <td>Species_5 mitochondrion, complete genome</td>\n",
       "      <td>GTGGGCGGGAGACGGTAATCGGACGCTTCGCTTGTCAAAAGGATTA...</td>\n",
       "    </tr>\n",
       "    <tr>\n",
       "      <th>...</th>\n",
       "      <td>...</td>\n",
       "      <td>...</td>\n",
       "    </tr>\n",
       "    <tr>\n",
       "      <th>&gt;NC_000096</th>\n",
       "      <td>Species_96 mitochondrion, complete genome</td>\n",
       "      <td>ACTCTCCCTATGCTGTTAGAGGTCATATAACTAAAGGTCGTGTAAC...</td>\n",
       "    </tr>\n",
       "    <tr>\n",
       "      <th>&gt;NC_000097</th>\n",
       "      <td>Species_97 mitochondrion, complete genome</td>\n",
       "      <td>CACGGCCCTGCGATCTTTCAGACCGCTAAGACTCACCAGGGCTCAG...</td>\n",
       "    </tr>\n",
       "    <tr>\n",
       "      <th>&gt;NC_000098</th>\n",
       "      <td>Species_98 mitochondrion, complete genome</td>\n",
       "      <td>ACTAGCCGCTGGCCCTCCAGGGTAATCGGACTGCAGATATATACTG...</td>\n",
       "    </tr>\n",
       "    <tr>\n",
       "      <th>&gt;NC_000099</th>\n",
       "      <td>Species_99 mitochondrion, complete genome</td>\n",
       "      <td>AGCCCATGACTTGGCAGAAGCGAGTCAGTTCTAGATACCCATCCCC...</td>\n",
       "    </tr>\n",
       "    <tr>\n",
       "      <th>&gt;NC_000100</th>\n",
       "      <td>Species_100 mitochondrion, complete genome</td>\n",
       "      <td>CATGGTCCACTTCCGCCATCACCGAAGAAAATAGTGGATCTGTTTG...</td>\n",
       "    </tr>\n",
       "  </tbody>\n",
       "</table>\n",
       "<p>100 rows × 2 columns</p>\n",
       "</div>"
      ],
      "text/plain": [
       "                                   sequence_description  \\\n",
       "sequence_id                                               \n",
       ">NC_000001     Species_1 mitochondrion, complete genome   \n",
       ">NC_000002     Species_2 mitochondrion, complete genome   \n",
       ">NC_000003     Species_3 mitochondrion, complete genome   \n",
       ">NC_000004     Species_4 mitochondrion, complete genome   \n",
       ">NC_000005     Species_5 mitochondrion, complete genome   \n",
       "...                                                 ...   \n",
       ">NC_000096    Species_96 mitochondrion, complete genome   \n",
       ">NC_000097    Species_97 mitochondrion, complete genome   \n",
       ">NC_000098    Species_98 mitochondrion, complete genome   \n",
       ">NC_000099    Species_99 mitochondrion, complete genome   \n",
       ">NC_000100   Species_100 mitochondrion, complete genome   \n",
       "\n",
       "                                                      sequence  \n",
       "sequence_id                                                     \n",
       ">NC_000001   CCGGCAGGAACTGCTAACACATAATCGGCGTTTTGAAGTTCGCAAG...  \n",
       ">NC_000002   TAAGTAATCTTGCGCTACACCTGCCTGCTCAAGTTTTTCCCACTAC...  \n",
       ">NC_000003   AAGTCAAAGGCGGGATCATTAACGGCCTTGGGCGACGGGAGTGCCA...  \n",
       ">NC_000004   CTATGCGTCCACAGGGTGATTACGCTGCCAACGGTAATGCAACAGA...  \n",
       ">NC_000005   GTGGGCGGGAGACGGTAATCGGACGCTTCGCTTGTCAAAAGGATTA...  \n",
       "...                                                        ...  \n",
       ">NC_000096   ACTCTCCCTATGCTGTTAGAGGTCATATAACTAAAGGTCGTGTAAC...  \n",
       ">NC_000097   CACGGCCCTGCGATCTTTCAGACCGCTAAGACTCACCAGGGCTCAG...  \n",
       ">NC_000098   ACTAGCCGCTGGCCCTCCAGGGTAATCGGACTGCAGATATATACTG...  \n",
       ">NC_000099   AGCCCATGACTTGGCAGAAGCGAGTCAGTTCTAGATACCCATCCCC...  \n",
       ">NC_000100   CATGGTCCACTTCCGCCATCACCGAAGAAAATAGTGGATCTGTTTG...  \n",
       "\n",
       "[100 rows x 2 columns]"
      ]
     },
     "execution_count": 24,
     "metadata": {},
     "output_type": "execute_result"
    }
   ],
   "source": [
    "file_path = \"mtDNA_dataset.txt\"\n",
    "df = build_dataframe_from_file(file_path)\n",
    "df"
   ]
  },
  {
   "cell_type": "code",
   "execution_count": 25,
   "metadata": {},
   "outputs": [],
   "source": [
    "def create_gene_objects(df):\n",
    "    gene_objects = []\n",
    "    for sequence_id, row in df.iterrows():\n",
    "        gene = Gene(sequence_id, row[\"sequence_description\"], row[\"sequence\"])\n",
    "        gene_objects.append(gene)\n",
    "    return gene_objects"
   ]
  },
  {
   "cell_type": "code",
   "execution_count": 26,
   "metadata": {},
   "outputs": [],
   "source": [
    "giovanni=create_gene_objects(df)\n",
    "luca=giovanni[0]"
   ]
  },
  {
   "cell_type": "code",
   "execution_count": 29,
   "metadata": {},
   "outputs": [
    {
     "data": {
      "text/plain": [
       "'>NC_000001'"
      ]
     },
     "execution_count": 29,
     "metadata": {},
     "output_type": "execute_result"
    }
   ],
   "source": [
    "luca.sequence_id"
   ]
  }
 ],
 "metadata": {
  "kernelspec": {
   "display_name": "Python 3",
   "language": "python",
   "name": "python3"
  },
  "language_info": {
   "codemirror_mode": {
    "name": "ipython",
    "version": 3
   },
   "file_extension": ".py",
   "mimetype": "text/x-python",
   "name": "python",
   "nbconvert_exporter": "python",
   "pygments_lexer": "ipython3",
   "version": "3.12.4"
  }
 },
 "nbformat": 4,
 "nbformat_minor": 2
}
