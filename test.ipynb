{
 "cells": [
  {
   "cell_type": "code",
   "execution_count": 1,
   "metadata": {},
   "outputs": [],
   "source": [
    "import pandas as pd\n",
    "from gene_classes import *"
   ]
  },
  {
   "cell_type": "code",
   "execution_count": 2,
   "metadata": {},
   "outputs": [],
   "source": [
    "def build_dataframe_from_file(file_path): \n",
    "    data = []\n",
    "\n",
    "    with open(file_path, \"r\") as file:\n",
    "        while True:\n",
    "            line = file.readline()\n",
    "            if not line:\n",
    "                break \n",
    "\n",
    "            first_line = line.strip()\n",
    "            parts = first_line.split(maxsplit = 1)\n",
    "            sequence_id = parts[0]\n",
    "            sequence_description = parts[1] if len(parts) > 1 else \"\"\n",
    "\n",
    "            sequence = \"\"\n",
    "            while True:\n",
    "                line = file.readline().strip()\n",
    "                if not line or line[0] == \">\":\n",
    "                    break\n",
    "                sequence += line\n",
    "\n",
    "            data.append({\"sequence_id\": sequence_id,\n",
    "                         \"sequence_description\": sequence_description,\n",
    "                         \"sequence\": sequence})\n",
    "            \n",
    "            if line and line[0] == \">\":\n",
    "                file.seek(file.tell() - len(line) - 1)\n",
    "\n",
    "    df = pd.DataFrame(data)\n",
    "    df.set_index(\"sequence_id\", inplace=True)\n",
    "    return df"
   ]
  },
  {
   "cell_type": "code",
   "execution_count": 3,
   "metadata": {},
   "outputs": [],
   "source": [
    "def create_gene_objects(df):\n",
    "    gene_objects = []\n",
    "    for sequence_id, row in df.iterrows():\n",
    "        gene = Gene(sequence_id, row[\"sequence_description\"], row[\"sequence\"])\n",
    "        gene_objects.append(gene)\n",
    "    return gene_objects"
   ]
  },
  {
   "cell_type": "code",
   "execution_count": 4,
   "metadata": {},
   "outputs": [
    {
     "data": {
      "text/html": [
       "<div>\n",
       "<style scoped>\n",
       "    .dataframe tbody tr th:only-of-type {\n",
       "        vertical-align: middle;\n",
       "    }\n",
       "\n",
       "    .dataframe tbody tr th {\n",
       "        vertical-align: top;\n",
       "    }\n",
       "\n",
       "    .dataframe thead th {\n",
       "        text-align: right;\n",
       "    }\n",
       "</style>\n",
       "<table border=\"1\" class=\"dataframe\">\n",
       "  <thead>\n",
       "    <tr style=\"text-align: right;\">\n",
       "      <th></th>\n",
       "      <th>sequence_description</th>\n",
       "      <th>sequence</th>\n",
       "    </tr>\n",
       "    <tr>\n",
       "      <th>sequence_id</th>\n",
       "      <th></th>\n",
       "      <th></th>\n",
       "    </tr>\n",
       "  </thead>\n",
       "  <tbody>\n",
       "    <tr>\n",
       "      <th>&gt;NC_000001</th>\n",
       "      <td>Species_1 mitochondrion, complete genome</td>\n",
       "      <td>CCGGCAGGAACTGCTAACACATAATCGGCGTTTTGAAGTTCGCAAG...</td>\n",
       "    </tr>\n",
       "    <tr>\n",
       "      <th>&gt;NC_000002</th>\n",
       "      <td>Species_2 mitochondrion, complete genome</td>\n",
       "      <td>TAAGTAATCTTGCGCTACACCTGCCTGCTCAAGTTTTTCCCACTAC...</td>\n",
       "    </tr>\n",
       "    <tr>\n",
       "      <th>&gt;NC_000003</th>\n",
       "      <td>Species_3 mitochondrion, complete genome</td>\n",
       "      <td>AAGTCAAAGGCGGGATCATTAACGGCCTTGGGCGACGGGAGTGCCA...</td>\n",
       "    </tr>\n",
       "    <tr>\n",
       "      <th>&gt;NC_000004</th>\n",
       "      <td>Species_4 mitochondrion, complete genome</td>\n",
       "      <td>CTATGCGTCCACAGGGTGATTACGCTGCCAACGGTAATGCAACAGA...</td>\n",
       "    </tr>\n",
       "    <tr>\n",
       "      <th>&gt;NC_000005</th>\n",
       "      <td>Species_5 mitochondrion, complete genome</td>\n",
       "      <td>GTGGGCGGGAGACGGTAATCGGACGCTTCGCTTGTCAAAAGGATTA...</td>\n",
       "    </tr>\n",
       "    <tr>\n",
       "      <th>...</th>\n",
       "      <td>...</td>\n",
       "      <td>...</td>\n",
       "    </tr>\n",
       "    <tr>\n",
       "      <th>&gt;NC_000096</th>\n",
       "      <td>Species_96 mitochondrion, complete genome</td>\n",
       "      <td>ACTCTCCCTATGCTGTTAGAGGTCATATAACTAAAGGTCGTGTAAC...</td>\n",
       "    </tr>\n",
       "    <tr>\n",
       "      <th>&gt;NC_000097</th>\n",
       "      <td>Species_97 mitochondrion, complete genome</td>\n",
       "      <td>CACGGCCCTGCGATCTTTCAGACCGCTAAGACTCACCAGGGCTCAG...</td>\n",
       "    </tr>\n",
       "    <tr>\n",
       "      <th>&gt;NC_000098</th>\n",
       "      <td>Species_98 mitochondrion, complete genome</td>\n",
       "      <td>ACTAGCCGCTGGCCCTCCAGGGTAATCGGACTGCAGATATATACTG...</td>\n",
       "    </tr>\n",
       "    <tr>\n",
       "      <th>&gt;NC_000099</th>\n",
       "      <td>Species_99 mitochondrion, complete genome</td>\n",
       "      <td>AGCCCATGACTTGGCAGAAGCGAGTCAGTTCTAGATACCCATCCCC...</td>\n",
       "    </tr>\n",
       "    <tr>\n",
       "      <th>&gt;NC_000100</th>\n",
       "      <td>Species_100 mitochondrion, complete genome</td>\n",
       "      <td>CATGGTCCACTTCCGCCATCACCGAAGAAAATAGTGGATCTGTTTG...</td>\n",
       "    </tr>\n",
       "  </tbody>\n",
       "</table>\n",
       "<p>100 rows × 2 columns</p>\n",
       "</div>"
      ],
      "text/plain": [
       "                                   sequence_description  \\\n",
       "sequence_id                                               \n",
       ">NC_000001     Species_1 mitochondrion, complete genome   \n",
       ">NC_000002     Species_2 mitochondrion, complete genome   \n",
       ">NC_000003     Species_3 mitochondrion, complete genome   \n",
       ">NC_000004     Species_4 mitochondrion, complete genome   \n",
       ">NC_000005     Species_5 mitochondrion, complete genome   \n",
       "...                                                 ...   \n",
       ">NC_000096    Species_96 mitochondrion, complete genome   \n",
       ">NC_000097    Species_97 mitochondrion, complete genome   \n",
       ">NC_000098    Species_98 mitochondrion, complete genome   \n",
       ">NC_000099    Species_99 mitochondrion, complete genome   \n",
       ">NC_000100   Species_100 mitochondrion, complete genome   \n",
       "\n",
       "                                                      sequence  \n",
       "sequence_id                                                     \n",
       ">NC_000001   CCGGCAGGAACTGCTAACACATAATCGGCGTTTTGAAGTTCGCAAG...  \n",
       ">NC_000002   TAAGTAATCTTGCGCTACACCTGCCTGCTCAAGTTTTTCCCACTAC...  \n",
       ">NC_000003   AAGTCAAAGGCGGGATCATTAACGGCCTTGGGCGACGGGAGTGCCA...  \n",
       ">NC_000004   CTATGCGTCCACAGGGTGATTACGCTGCCAACGGTAATGCAACAGA...  \n",
       ">NC_000005   GTGGGCGGGAGACGGTAATCGGACGCTTCGCTTGTCAAAAGGATTA...  \n",
       "...                                                        ...  \n",
       ">NC_000096   ACTCTCCCTATGCTGTTAGAGGTCATATAACTAAAGGTCGTGTAAC...  \n",
       ">NC_000097   CACGGCCCTGCGATCTTTCAGACCGCTAAGACTCACCAGGGCTCAG...  \n",
       ">NC_000098   ACTAGCCGCTGGCCCTCCAGGGTAATCGGACTGCAGATATATACTG...  \n",
       ">NC_000099   AGCCCATGACTTGGCAGAAGCGAGTCAGTTCTAGATACCCATCCCC...  \n",
       ">NC_000100   CATGGTCCACTTCCGCCATCACCGAAGAAAATAGTGGATCTGTTTG...  \n",
       "\n",
       "[100 rows x 2 columns]"
      ]
     },
     "execution_count": 4,
     "metadata": {},
     "output_type": "execute_result"
    }
   ],
   "source": [
    "file_path = \"mtDNA_dataset.txt\"\n",
    "df = build_dataframe_from_file(file_path)\n",
    "df"
   ]
  },
  {
   "cell_type": "code",
   "execution_count": 5,
   "metadata": {},
   "outputs": [],
   "source": [
    "def create_gene_objects(df):\n",
    "    gene_objects = []\n",
    "    for sequence_id, row in df.iterrows():\n",
    "        gene = Gene(sequence_id, row[\"sequence_description\"], row[\"sequence\"])\n",
    "        gene_objects.append(gene)\n",
    "    return gene_objects"
   ]
  },
  {
   "cell_type": "code",
   "execution_count": 6,
   "metadata": {},
   "outputs": [],
   "source": [
    "giovanni=create_gene_objects(df)\n",
    "luca=giovanni[0]"
   ]
  },
  {
   "cell_type": "code",
   "execution_count": 8,
   "metadata": {},
   "outputs": [
    {
     "data": {
      "text/plain": [
       "<gene_classes.Gene at 0x7300bbf1b2c0>"
      ]
     },
     "execution_count": 8,
     "metadata": {},
     "output_type": "execute_result"
    }
   ],
   "source": [
    "luca"
   ]
  },
  {
   "cell_type": "code",
   "execution_count": 17,
   "metadata": {},
   "outputs": [
    {
     "data": {
      "text/plain": [
       "[<gene_classes.Gene at 0x7228c00206b0>,\n",
       " <gene_classes.Gene at 0x7228c0020080>,\n",
       " <gene_classes.Gene at 0x7228c00207d0>,\n",
       " <gene_classes.Gene at 0x7228c0020710>,\n",
       " <gene_classes.Gene at 0x7228c0020680>,\n",
       " <gene_classes.Gene at 0x7228c0020620>,\n",
       " <gene_classes.Gene at 0x7228c00202f0>,\n",
       " <gene_classes.Gene at 0x7228c0020890>,\n",
       " <gene_classes.Gene at 0x7228c00208f0>,\n",
       " <gene_classes.Gene at 0x7228c0020950>,\n",
       " <gene_classes.Gene at 0x7228c00209b0>,\n",
       " <gene_classes.Gene at 0x7228c0020a10>,\n",
       " <gene_classes.Gene at 0x7228c0020a70>,\n",
       " <gene_classes.Gene at 0x7228c0020ad0>,\n",
       " <gene_classes.Gene at 0x7228c0020b30>,\n",
       " <gene_classes.Gene at 0x7228c0020b90>,\n",
       " <gene_classes.Gene at 0x7228c0020bf0>,\n",
       " <gene_classes.Gene at 0x7228c0020c50>,\n",
       " <gene_classes.Gene at 0x7228c0020cb0>,\n",
       " <gene_classes.Gene at 0x7228c0020d10>,\n",
       " <gene_classes.Gene at 0x7228c0020d70>,\n",
       " <gene_classes.Gene at 0x7228c0020dd0>,\n",
       " <gene_classes.Gene at 0x7228c0020e30>,\n",
       " <gene_classes.Gene at 0x7228c0020e90>,\n",
       " <gene_classes.Gene at 0x7228c0020ef0>,\n",
       " <gene_classes.Gene at 0x7228c0020f50>,\n",
       " <gene_classes.Gene at 0x7228c0020fb0>,\n",
       " <gene_classes.Gene at 0x7228c0021010>,\n",
       " <gene_classes.Gene at 0x7228c0021070>,\n",
       " <gene_classes.Gene at 0x7228c00210d0>,\n",
       " <gene_classes.Gene at 0x7228c0021040>,\n",
       " <gene_classes.Gene at 0x7228c0021160>,\n",
       " <gene_classes.Gene at 0x7228c00211f0>,\n",
       " <gene_classes.Gene at 0x7228c0021250>,\n",
       " <gene_classes.Gene at 0x7228c00212b0>,\n",
       " <gene_classes.Gene at 0x7228c0021310>,\n",
       " <gene_classes.Gene at 0x7228c0021370>,\n",
       " <gene_classes.Gene at 0x7228c00213d0>,\n",
       " <gene_classes.Gene at 0x7228c0021430>,\n",
       " <gene_classes.Gene at 0x7228c0021490>,\n",
       " <gene_classes.Gene at 0x7228c00214f0>,\n",
       " <gene_classes.Gene at 0x7228c0021550>,\n",
       " <gene_classes.Gene at 0x7228c00215b0>,\n",
       " <gene_classes.Gene at 0x7228c0021610>,\n",
       " <gene_classes.Gene at 0x7228c0021670>,\n",
       " <gene_classes.Gene at 0x7228c00216d0>,\n",
       " <gene_classes.Gene at 0x7228c0021730>,\n",
       " <gene_classes.Gene at 0x7228c0021790>,\n",
       " <gene_classes.Gene at 0x7228c00217f0>,\n",
       " <gene_classes.Gene at 0x7228c0021850>,\n",
       " <gene_classes.Gene at 0x7228c00218b0>,\n",
       " <gene_classes.Gene at 0x7228c0021910>,\n",
       " <gene_classes.Gene at 0x7228c0021970>,\n",
       " <gene_classes.Gene at 0x7228dab77200>,\n",
       " <gene_classes.Gene at 0x7228c019bc20>,\n",
       " <gene_classes.Gene at 0x7228dab61580>,\n",
       " <gene_classes.Gene at 0x7228ce9d9a60>,\n",
       " <gene_classes.Gene at 0x7228dab93a40>,\n",
       " <gene_classes.Gene at 0x7228c0060d40>,\n",
       " <gene_classes.Gene at 0x7228c00608c0>,\n",
       " <gene_classes.Gene at 0x7228c0021af0>,\n",
       " <gene_classes.Gene at 0x7228c0021c10>,\n",
       " <gene_classes.Gene at 0x7228c00219d0>,\n",
       " <gene_classes.Gene at 0x7228c0021a00>,\n",
       " <gene_classes.Gene at 0x7228c0021bb0>,\n",
       " <gene_classes.Gene at 0x7228c0021b50>,\n",
       " <gene_classes.Gene at 0x7228c00201d0>,\n",
       " <gene_classes.Gene at 0x7228c0021ac0>,\n",
       " <gene_classes.Gene at 0x7228c0021cd0>,\n",
       " <gene_classes.Gene at 0x7228c0021d30>,\n",
       " <gene_classes.Gene at 0x7228c0021d90>,\n",
       " <gene_classes.Gene at 0x7228c0021df0>,\n",
       " <gene_classes.Gene at 0x7228c0021f70>,\n",
       " <gene_classes.Gene at 0x7228c0020830>,\n",
       " <gene_classes.Gene at 0x7228c0021a30>,\n",
       " <gene_classes.Gene at 0x7228e358b650>,\n",
       " <gene_classes.Gene at 0x7228e17f9550>,\n",
       " <gene_classes.Gene at 0x7228e358af60>,\n",
       " <gene_classes.Gene at 0x7228e358a960>,\n",
       " <gene_classes.Gene at 0x7228e358a7e0>,\n",
       " <gene_classes.Gene at 0x7228e358b4d0>,\n",
       " <gene_classes.Gene at 0x7228c00ba570>,\n",
       " <gene_classes.Gene at 0x7228c00ba5d0>,\n",
       " <gene_classes.Gene at 0x7228c00ba810>,\n",
       " <gene_classes.Gene at 0x7228c00ba510>,\n",
       " <gene_classes.Gene at 0x7228c00ba720>,\n",
       " <gene_classes.Gene at 0x7228c00ba660>,\n",
       " <gene_classes.Gene at 0x7228c00ba870>,\n",
       " <gene_classes.Gene at 0x7228c00ba8d0>,\n",
       " <gene_classes.Gene at 0x7228c00ba930>,\n",
       " <gene_classes.Gene at 0x7228c00ba990>,\n",
       " <gene_classes.Gene at 0x7228c00ba9f0>,\n",
       " <gene_classes.Gene at 0x7228c00baa50>,\n",
       " <gene_classes.Gene at 0x7228c00baab0>,\n",
       " <gene_classes.Gene at 0x7228c00bab10>,\n",
       " <gene_classes.Gene at 0x7228c00bab70>,\n",
       " <gene_classes.Gene at 0x7228c00babd0>,\n",
       " <gene_classes.Gene at 0x7228c00bac30>,\n",
       " <gene_classes.Gene at 0x7228c00bac90>,\n",
       " <gene_classes.Gene at 0x7228c00bacf0>]"
      ]
     },
     "execution_count": 17,
     "metadata": {},
     "output_type": "execute_result"
    }
   ],
   "source": [
    "list_genes=create_gene_objects(df)\n",
    "list_genes"
   ]
  },
  {
   "cell_type": "code",
   "execution_count": 19,
   "metadata": {},
   "outputs": [
    {
     "data": {
      "text/plain": [
       "<bound method Gene.sequence_id of <gene_classes.Gene object at 0x7228c00206b0>>"
      ]
     },
     "execution_count": 19,
     "metadata": {},
     "output_type": "execute_result"
    }
   ],
   "source": [
    "test_gene=list_genes[0]\n",
    "test_gene."
   ]
  },
  {
   "cell_type": "code",
   "execution_count": null,
   "metadata": {},
   "outputs": [],
   "source": []
  }
 ],
 "metadata": {
  "kernelspec": {
   "display_name": "Python 3",
   "language": "python",
   "name": "python3"
  },
  "language_info": {
   "codemirror_mode": {
    "name": "ipython",
    "version": 3
   },
   "file_extension": ".py",
   "mimetype": "text/x-python",
   "name": "python",
   "nbconvert_exporter": "python",
   "pygments_lexer": "ipython3",
   "version": "3.12.3"
  }
 },
 "nbformat": 4,
 "nbformat_minor": 2
}
