{
 "cells": [
  {
   "cell_type": "code",
   "execution_count": 1,
   "metadata": {},
   "outputs": [],
   "source": [
    "import pandas as pd\n",
    "from gene_classes import *\n",
    "from farsa_parser import FastaParser"
   ]
  },
  {
   "cell_type": "code",
   "execution_count": 2,
   "metadata": {},
   "outputs": [
    {
     "data": {
      "text/html": [
       "<div>\n",
       "<style scoped>\n",
       "    .dataframe tbody tr th:only-of-type {\n",
       "        vertical-align: middle;\n",
       "    }\n",
       "\n",
       "    .dataframe tbody tr th {\n",
       "        vertical-align: top;\n",
       "    }\n",
       "\n",
       "    .dataframe thead th {\n",
       "        text-align: right;\n",
       "    }\n",
       "</style>\n",
       "<table border=\"1\" class=\"dataframe\">\n",
       "  <thead>\n",
       "    <tr style=\"text-align: right;\">\n",
       "      <th></th>\n",
       "      <th>sequence_description</th>\n",
       "      <th>sequence</th>\n",
       "    </tr>\n",
       "    <tr>\n",
       "      <th>sequence_id</th>\n",
       "      <th></th>\n",
       "      <th></th>\n",
       "    </tr>\n",
       "  </thead>\n",
       "  <tbody>\n",
       "    <tr>\n",
       "      <th>NC_000001</th>\n",
       "      <td>Species_1 mitochondrion, complete genome</td>\n",
       "      <td>CCGGCAGGAACTGCTAACACATAATCGGCGTTTTGAAGTTCGCAAG...</td>\n",
       "    </tr>\n",
       "    <tr>\n",
       "      <th>NC_000002</th>\n",
       "      <td>Species_2 mitochondrion, complete genome</td>\n",
       "      <td>TAAGTAATCTTGCGCTACACCTGCCTGCTCAAGTTTTTCCCACTAC...</td>\n",
       "    </tr>\n",
       "    <tr>\n",
       "      <th>NC_000003</th>\n",
       "      <td>Species_3 mitochondrion, complete genome</td>\n",
       "      <td>AAGTCAAAGGCGGGATCATTAACGGCCTTGGGCGACGGGAGTGCCA...</td>\n",
       "    </tr>\n",
       "    <tr>\n",
       "      <th>NC_000004</th>\n",
       "      <td>Species_4 mitochondrion, complete genome</td>\n",
       "      <td>CTATGCGTCCACAGGGTGATTACGCTGCCAACGGTAATGCAACAGA...</td>\n",
       "    </tr>\n",
       "    <tr>\n",
       "      <th>NC_000005</th>\n",
       "      <td>Species_5 mitochondrion, complete genome</td>\n",
       "      <td>GTGGGCGGGAGACGGTAATCGGACGCTTCGCTTGTCAAAAGGATTA...</td>\n",
       "    </tr>\n",
       "    <tr>\n",
       "      <th>...</th>\n",
       "      <td>...</td>\n",
       "      <td>...</td>\n",
       "    </tr>\n",
       "    <tr>\n",
       "      <th>NC_000096</th>\n",
       "      <td>Species_96 mitochondrion, complete genome</td>\n",
       "      <td>ACTCTCCCTATGCTGTTAGAGGTCATATAACTAAAGGTCGTGTAAC...</td>\n",
       "    </tr>\n",
       "    <tr>\n",
       "      <th>NC_000097</th>\n",
       "      <td>Species_97 mitochondrion, complete genome</td>\n",
       "      <td>CACGGCCCTGCGATCTTTCAGACCGCTAAGACTCACCAGGGCTCAG...</td>\n",
       "    </tr>\n",
       "    <tr>\n",
       "      <th>NC_000098</th>\n",
       "      <td>Species_98 mitochondrion, complete genome</td>\n",
       "      <td>ACTAGCCGCTGGCCCTCCAGGGTAATCGGACTGCAGATATATACTG...</td>\n",
       "    </tr>\n",
       "    <tr>\n",
       "      <th>NC_000099</th>\n",
       "      <td>Species_99 mitochondrion, complete genome</td>\n",
       "      <td>AGCCCATGACTTGGCAGAAGCGAGTCAGTTCTAGATACCCATCCCC...</td>\n",
       "    </tr>\n",
       "    <tr>\n",
       "      <th>NC_000100</th>\n",
       "      <td>Species_100 mitochondrion, complete genome</td>\n",
       "      <td>CATGGTCCACTTCCGCCATCACCGAAGAAAATAGTGGATCTGTTTG...</td>\n",
       "    </tr>\n",
       "  </tbody>\n",
       "</table>\n",
       "<p>100 rows × 2 columns</p>\n",
       "</div>"
      ],
      "text/plain": [
       "                                   sequence_description  \\\n",
       "sequence_id                                               \n",
       "NC_000001      Species_1 mitochondrion, complete genome   \n",
       "NC_000002      Species_2 mitochondrion, complete genome   \n",
       "NC_000003      Species_3 mitochondrion, complete genome   \n",
       "NC_000004      Species_4 mitochondrion, complete genome   \n",
       "NC_000005      Species_5 mitochondrion, complete genome   \n",
       "...                                                 ...   \n",
       "NC_000096     Species_96 mitochondrion, complete genome   \n",
       "NC_000097     Species_97 mitochondrion, complete genome   \n",
       "NC_000098     Species_98 mitochondrion, complete genome   \n",
       "NC_000099     Species_99 mitochondrion, complete genome   \n",
       "NC_000100    Species_100 mitochondrion, complete genome   \n",
       "\n",
       "                                                      sequence  \n",
       "sequence_id                                                     \n",
       "NC_000001    CCGGCAGGAACTGCTAACACATAATCGGCGTTTTGAAGTTCGCAAG...  \n",
       "NC_000002    TAAGTAATCTTGCGCTACACCTGCCTGCTCAAGTTTTTCCCACTAC...  \n",
       "NC_000003    AAGTCAAAGGCGGGATCATTAACGGCCTTGGGCGACGGGAGTGCCA...  \n",
       "NC_000004    CTATGCGTCCACAGGGTGATTACGCTGCCAACGGTAATGCAACAGA...  \n",
       "NC_000005    GTGGGCGGGAGACGGTAATCGGACGCTTCGCTTGTCAAAAGGATTA...  \n",
       "...                                                        ...  \n",
       "NC_000096    ACTCTCCCTATGCTGTTAGAGGTCATATAACTAAAGGTCGTGTAAC...  \n",
       "NC_000097    CACGGCCCTGCGATCTTTCAGACCGCTAAGACTCACCAGGGCTCAG...  \n",
       "NC_000098    ACTAGCCGCTGGCCCTCCAGGGTAATCGGACTGCAGATATATACTG...  \n",
       "NC_000099    AGCCCATGACTTGGCAGAAGCGAGTCAGTTCTAGATACCCATCCCC...  \n",
       "NC_000100    CATGGTCCACTTCCGCCATCACCGAAGAAAATAGTGGATCTGTTTG...  \n",
       "\n",
       "[100 rows x 2 columns]"
      ]
     },
     "execution_count": 2,
     "metadata": {},
     "output_type": "execute_result"
    }
   ],
   "source": [
    "file_path = \"mtDNA_dataset.txt\"\n",
    "df = FastaParser.parse_file()\n",
    "df"
   ]
  },
  {
   "cell_type": "code",
   "execution_count": 3,
   "metadata": {},
   "outputs": [
    {
     "data": {
      "text/plain": [
       "[<gene_classes.MitochondrialDNA at 0x25d71574e30>,\n",
       " <gene_classes.MitochondrialDNA at 0x25d71eff440>,\n",
       " <gene_classes.MitochondrialDNA at 0x25d7123dee0>,\n",
       " <gene_classes.MitochondrialDNA at 0x25d718de270>,\n",
       " <gene_classes.MitochondrialDNA at 0x25d71fac530>,\n",
       " <gene_classes.MitochondrialDNA at 0x25d52b30dd0>,\n",
       " <gene_classes.MitochondrialDNA at 0x25d71fac5c0>,\n",
       " <gene_classes.MitochondrialDNA at 0x25d71fac5f0>,\n",
       " <gene_classes.MitochondrialDNA at 0x25d71fac620>,\n",
       " <gene_classes.MitochondrialDNA at 0x25d71fac650>,\n",
       " <gene_classes.MitochondrialDNA at 0x25d71fac680>,\n",
       " <gene_classes.MitochondrialDNA at 0x25d71fac6b0>,\n",
       " <gene_classes.MitochondrialDNA at 0x25d71fac6e0>,\n",
       " <gene_classes.MitochondrialDNA at 0x25d71fac710>,\n",
       " <gene_classes.MitochondrialDNA at 0x25d71fac740>,\n",
       " <gene_classes.MitochondrialDNA at 0x25d71fac770>,\n",
       " <gene_classes.MitochondrialDNA at 0x25d71fac7a0>,\n",
       " <gene_classes.MitochondrialDNA at 0x25d71fac7d0>,\n",
       " <gene_classes.MitochondrialDNA at 0x25d71fac800>,\n",
       " <gene_classes.MitochondrialDNA at 0x25d71fac860>,\n",
       " <gene_classes.MitochondrialDNA at 0x25d71fac590>,\n",
       " <gene_classes.MitochondrialDNA at 0x25d71fac8c0>,\n",
       " <gene_classes.MitochondrialDNA at 0x25d71fac920>,\n",
       " <gene_classes.MitochondrialDNA at 0x25d71fac950>,\n",
       " <gene_classes.MitochondrialDNA at 0x25d71fac980>,\n",
       " <gene_classes.MitochondrialDNA at 0x25d71fac9b0>,\n",
       " <gene_classes.MitochondrialDNA at 0x25d71fac8f0>,\n",
       " <gene_classes.MitochondrialDNA at 0x25d71fac560>,\n",
       " <gene_classes.MitochondrialDNA at 0x25d71fac830>,\n",
       " <gene_classes.MitochondrialDNA at 0x25d71fac380>,\n",
       " <gene_classes.MitochondrialDNA at 0x25d71fac260>,\n",
       " <gene_classes.MitochondrialDNA at 0x25d71faca70>,\n",
       " <gene_classes.MitochondrialDNA at 0x25d71facaa0>,\n",
       " <gene_classes.MitochondrialDNA at 0x25d71facb00>,\n",
       " <gene_classes.MitochondrialDNA at 0x25d71facb60>,\n",
       " <gene_classes.MitochondrialDNA at 0x25d71facbc0>,\n",
       " <gene_classes.MitochondrialDNA at 0x25d71facc20>,\n",
       " <gene_classes.MitochondrialDNA at 0x25d71facc80>,\n",
       " <gene_classes.MitochondrialDNA at 0x25d71facce0>,\n",
       " <gene_classes.MitochondrialDNA at 0x25d71facd40>,\n",
       " <gene_classes.MitochondrialDNA at 0x25d71facda0>,\n",
       " <gene_classes.MitochondrialDNA at 0x25d71face00>,\n",
       " <gene_classes.MitochondrialDNA at 0x25d71face60>,\n",
       " <gene_classes.MitochondrialDNA at 0x25d71facec0>,\n",
       " <gene_classes.MitochondrialDNA at 0x25d71facf20>,\n",
       " <gene_classes.MitochondrialDNA at 0x25d71facfb0>,\n",
       " <gene_classes.MitochondrialDNA at 0x25d71fad040>,\n",
       " <gene_classes.MitochondrialDNA at 0x25d71fad0a0>,\n",
       " <gene_classes.MitochondrialDNA at 0x25d71fad100>,\n",
       " <gene_classes.MitochondrialDNA at 0x25d71fad160>,\n",
       " <gene_classes.MitochondrialDNA at 0x25d71fad1c0>,\n",
       " <gene_classes.MitochondrialDNA at 0x25d71fad220>,\n",
       " <gene_classes.MitochondrialDNA at 0x25d71fad280>,\n",
       " <gene_classes.MitochondrialDNA at 0x25d71fad2e0>,\n",
       " <gene_classes.MitochondrialDNA at 0x25d71fad340>,\n",
       " <gene_classes.MitochondrialDNA at 0x25d71fad3a0>,\n",
       " <gene_classes.MitochondrialDNA at 0x25d71fad400>,\n",
       " <gene_classes.MitochondrialDNA at 0x25d71fad460>,\n",
       " <gene_classes.MitochondrialDNA at 0x25d71fad4c0>,\n",
       " <gene_classes.MitochondrialDNA at 0x25d71fad520>,\n",
       " <gene_classes.MitochondrialDNA at 0x25d71fad580>,\n",
       " <gene_classes.MitochondrialDNA at 0x25d71fad5e0>,\n",
       " <gene_classes.MitochondrialDNA at 0x25d71fad640>,\n",
       " <gene_classes.MitochondrialDNA at 0x25d71fad6a0>,\n",
       " <gene_classes.MitochondrialDNA at 0x25d71fad700>,\n",
       " <gene_classes.MitochondrialDNA at 0x25d71fad760>,\n",
       " <gene_classes.MitochondrialDNA at 0x25d71fad7c0>,\n",
       " <gene_classes.MitochondrialDNA at 0x25d71fad820>,\n",
       " <gene_classes.MitochondrialDNA at 0x25d71fad880>,\n",
       " <gene_classes.MitochondrialDNA at 0x25d71fad8e0>,\n",
       " <gene_classes.MitochondrialDNA at 0x25d71fad970>,\n",
       " <gene_classes.MitochondrialDNA at 0x25d71fad9a0>,\n",
       " <gene_classes.MitochondrialDNA at 0x25d71fadc70>,\n",
       " <gene_classes.MitochondrialDNA at 0x25d71fadcd0>,\n",
       " <gene_classes.MitochondrialDNA at 0x25d71fadd30>,\n",
       " <gene_classes.MitochondrialDNA at 0x25d71fadd90>,\n",
       " <gene_classes.MitochondrialDNA at 0x25d71faddf0>,\n",
       " <gene_classes.MitochondrialDNA at 0x25d71fade50>,\n",
       " <gene_classes.MitochondrialDNA at 0x25d71fadeb0>,\n",
       " <gene_classes.MitochondrialDNA at 0x25d71fadf10>,\n",
       " <gene_classes.MitochondrialDNA at 0x25d71fadf70>,\n",
       " <gene_classes.MitochondrialDNA at 0x25d71fadfd0>,\n",
       " <gene_classes.MitochondrialDNA at 0x25d71fae030>,\n",
       " <gene_classes.MitochondrialDNA at 0x25d71fae090>,\n",
       " <gene_classes.MitochondrialDNA at 0x25d71fae0f0>,\n",
       " <gene_classes.MitochondrialDNA at 0x25d71fae150>,\n",
       " <gene_classes.MitochondrialDNA at 0x25d71fae1b0>,\n",
       " <gene_classes.MitochondrialDNA at 0x25d71fae210>,\n",
       " <gene_classes.MitochondrialDNA at 0x25d71fae270>,\n",
       " <gene_classes.MitochondrialDNA at 0x25d71fae2d0>,\n",
       " <gene_classes.MitochondrialDNA at 0x25d71fae330>,\n",
       " <gene_classes.MitochondrialDNA at 0x25d71fae390>,\n",
       " <gene_classes.MitochondrialDNA at 0x25d71fae3f0>,\n",
       " <gene_classes.MitochondrialDNA at 0x25d71fae450>,\n",
       " <gene_classes.MitochondrialDNA at 0x25d71fae4b0>,\n",
       " <gene_classes.MitochondrialDNA at 0x25d71fae510>,\n",
       " <gene_classes.MitochondrialDNA at 0x25d71fae570>,\n",
       " <gene_classes.MitochondrialDNA at 0x25d71fae5d0>,\n",
       " <gene_classes.MitochondrialDNA at 0x25d71fae630>,\n",
       " <gene_classes.MitochondrialDNA at 0x25d71fae690>]"
      ]
     },
     "execution_count": 3,
     "metadata": {},
     "output_type": "execute_result"
    }
   ],
   "source": [
    "list_genes=FastaParser.create_mitochondrial_objects(df)\n",
    "list_genes"
   ]
  },
  {
   "cell_type": "code",
   "execution_count": 4,
   "metadata": {},
   "outputs": [
    {
     "data": {
      "text/plain": [
       "<gene_classes.MitochondrialDNA at 0x25d71eff440>"
      ]
     },
     "execution_count": 4,
     "metadata": {},
     "output_type": "execute_result"
    }
   ],
   "source": [
    "list_genes[1]"
   ]
  },
  {
   "cell_type": "code",
   "execution_count": 6,
   "metadata": {},
   "outputs": [
    {
     "data": {
      "text/plain": [
       "'TAAGTAATCTTGCGCTACACCTGCCTGCTCAAGTTTTTCCCACTACTGCTTAGCGGCATTACCTGGGGCTCTACTGACGTATCAGGGACCCAATCATATTGTAGGTACTGGTCCAACTCTGAGTCAACTAGCCTGCACCTGTGGTTTCTTGTCCGGCCTTGTAAGCCGTAAGGTGCAGACCCACTCGCAAACCCCTGAATATCCAAATCACTATCTACAAGCATCACTATTGACCGTTCGTGAAGGGCGTAATTCGAGGCCGATTTTCATTTCATGCCTCCCATATGCAATTCCACCCTAGATGATGACGGCATTACATGATACACGACTAGCTCAGTCGCACCCAGGACGCTCGCTAGGGGATCGCGACGACCTGCCGGTCTTCTAAGTTCATTAGGTACCCGAGTCGAAGGAATTCGAGATGCTAACTTGGTCTTCCACGATAGTGGAACGTGTCACGGGACAGCCTTACGTGGAATAATAAAGAGTAACCAAGTTGAAGTCGCCAAACTCGCTCACTTTCGTCTGTTATATAAGTGATGAGAAAGCGGTTACGGTCAGTTCAATAGGGACAGCGAGAGGATCGACGGTTAACTTTACTTCTGGCGGGCTAATGACAACTCTTCAAGACTTAGTCAGCTTTATGCCGCCATGGACTATTGACCGGACTGAAGGTATAGTTTAGGGGAAACATCTGATCCAGGCAGAAAAGTTATAACGTAAGGGCCGCAGCTCTATGGATAAACTTGTGGTATGGCTTTTATTGTCTGAGTATTGAGCCGCCCTGTTGGACAGAGAGCGCCAATCCTTGCCAACCTCGAGCTAGGTGTTCCAAGTCAAGTCTTAAAGGAGACCCGCCGAATACCCGTTCGATCACCTGAACGAATACTGTATACATTATCCACCTCGGACACCTAGTGTAGGGTTACCATGAGCATGATCTTTCGTCAAAATGGTGGCCCTATTCCAGCGAGCAGTTCCGGTTCGACACATAGGAGTC'"
      ]
     },
     "execution_count": 6,
     "metadata": {},
     "output_type": "execute_result"
    }
   ],
   "source": [
    "test_gene=list_genes[1]\n",
    "test_gene.sequence"
   ]
  },
  {
   "cell_type": "code",
   "execution_count": 8,
   "metadata": {},
   "outputs": [
    {
     "data": {
      "text/plain": [
       "'48.6%'"
      ]
     },
     "execution_count": 8,
     "metadata": {},
     "output_type": "execute_result"
    }
   ],
   "source": [
    "test_gene.GC_content_percentage()"
   ]
  },
  {
   "cell_type": "code",
   "execution_count": 9,
   "metadata": {},
   "outputs": [
    {
     "data": {
      "text/plain": [
       "{'A': 257, 'C': 250, 'G': 236, 'T': 257}"
      ]
     },
     "execution_count": 9,
     "metadata": {},
     "output_type": "execute_result"
    }
   ],
   "source": [
    "test_gene.base_composition()"
   ]
  },
  {
   "cell_type": "code",
   "execution_count": 10,
   "metadata": {},
   "outputs": [
    {
     "data": {
      "text/plain": [
       "{'A': 25.7, 'C': 25.0, 'G': 23.599999999999998, 'T': 25.7}"
      ]
     },
     "execution_count": 10,
     "metadata": {},
     "output_type": "execute_result"
    }
   ],
   "source": [
    "test_gene.base_composition_percentage()"
   ]
  },
  {
   "cell_type": "code",
   "execution_count": 11,
   "metadata": {},
   "outputs": [
    {
     "data": {
      "text/plain": [
       "[529, 531, 675, 713, 891]"
      ]
     },
     "execution_count": 11,
     "metadata": {},
     "output_type": "execute_result"
    }
   ],
   "source": [
    "test_gene.find_motif(\"TATA\")            #ti dice in che indici della stringa trovi l'inizio di questo motif"
   ]
  },
  {
   "cell_type": "code",
   "execution_count": null,
   "metadata": {},
   "outputs": [],
   "source": [
    "# Import pairwise2 module\n",
    "from Bio import pairwise2\n",
    "\n",
    "# Import format_alignment method\n",
    "from Bio.pairwise2 import format_alignment"
   ]
  }
 ],
 "metadata": {
  "kernelspec": {
   "display_name": "Python 3",
   "language": "python",
   "name": "python3"
  },
  "language_info": {
   "codemirror_mode": {
    "name": "ipython",
    "version": 3
   },
   "file_extension": ".py",
   "mimetype": "text/x-python",
   "name": "python",
   "nbconvert_exporter": "python",
   "pygments_lexer": "ipython3",
   "version": "3.12.3"
  }
 },
 "nbformat": 4,
 "nbformat_minor": 2
}
