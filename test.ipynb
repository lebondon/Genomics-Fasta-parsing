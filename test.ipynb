{
 "cells": [
  {
   "cell_type": "code",
   "execution_count": 1,
   "metadata": {},
   "outputs": [
    {
     "name": "stderr",
     "output_type": "stream",
     "text": [
      "c:\\Users\\filip\\AppData\\Local\\Programs\\Python\\Python312\\Lib\\site-packages\\Bio\\pairwise2.py:278: BiopythonDeprecationWarning: Bio.pairwise2 has been deprecated, and we intend to remove it in a future release of Biopython. As an alternative, please consider using Bio.Align.PairwiseAligner as a replacement, and contact the Biopython developers if you still need the Bio.pairwise2 module.\n",
      "  warnings.warn(\n"
     ]
    }
   ],
   "source": [
    "import pandas as pd\n",
    "from gene_classes import *\n",
    "from fasta_parser import FastaParser,detect_sequence_type"
   ]
  },
  {
   "cell_type": "code",
   "execution_count": 2,
   "metadata": {},
   "outputs": [
    {
     "data": {
      "text/html": [
       "<div>\n",
       "<style scoped>\n",
       "    .dataframe tbody tr th:only-of-type {\n",
       "        vertical-align: middle;\n",
       "    }\n",
       "\n",
       "    .dataframe tbody tr th {\n",
       "        vertical-align: top;\n",
       "    }\n",
       "\n",
       "    .dataframe thead th {\n",
       "        text-align: right;\n",
       "    }\n",
       "</style>\n",
       "<table border=\"1\" class=\"dataframe\">\n",
       "  <thead>\n",
       "    <tr style=\"text-align: right;\">\n",
       "      <th></th>\n",
       "      <th>sequence_description</th>\n",
       "      <th>sequence</th>\n",
       "    </tr>\n",
       "    <tr>\n",
       "      <th>sequence_id</th>\n",
       "      <th></th>\n",
       "      <th></th>\n",
       "    </tr>\n",
       "  </thead>\n",
       "  <tbody>\n",
       "    <tr>\n",
       "      <th>NC_000001</th>\n",
       "      <td>Species_1 mitochondrion, complete genome</td>\n",
       "      <td>CCGGCAGGAACTGCTAACACATAATCGGCGTTTTGAAGTTCGCAAG...</td>\n",
       "    </tr>\n",
       "    <tr>\n",
       "      <th>NC_000002</th>\n",
       "      <td>Species_2 mitochondrion, complete genome</td>\n",
       "      <td>TAAGTAATCTTGCGCTACACCTGCCTGCTCAAGTTTTTCCCACTAC...</td>\n",
       "    </tr>\n",
       "    <tr>\n",
       "      <th>NC_000003</th>\n",
       "      <td>Species_3 mitochondrion, complete genome</td>\n",
       "      <td>AAGTCAAAGGCGGGATCATTAACGGCCTTGGGCGACGGGAGTGCCA...</td>\n",
       "    </tr>\n",
       "    <tr>\n",
       "      <th>NC_000004</th>\n",
       "      <td>Species_4 mitochondrion, complete genome</td>\n",
       "      <td>CTATGCGTCCACAGGGTGATTACGCTGCCAACGGTAATGCAACAGA...</td>\n",
       "    </tr>\n",
       "    <tr>\n",
       "      <th>NC_000005</th>\n",
       "      <td>Species_5 mitochondrion, complete genome</td>\n",
       "      <td>GTGGGCGGGAGACGGTAATCGGACGCTTCGCTTGTCAAAAGGATTA...</td>\n",
       "    </tr>\n",
       "    <tr>\n",
       "      <th>...</th>\n",
       "      <td>...</td>\n",
       "      <td>...</td>\n",
       "    </tr>\n",
       "    <tr>\n",
       "      <th>NC_000096</th>\n",
       "      <td>Species_96 mitochondrion, complete genome</td>\n",
       "      <td>ACTCTCCCTATGCTGTTAGAGGTCATATAACTAAAGGTCGTGTAAC...</td>\n",
       "    </tr>\n",
       "    <tr>\n",
       "      <th>NC_000097</th>\n",
       "      <td>Species_97 mitochondrion, complete genome</td>\n",
       "      <td>CACGGCCCTGCGATCTTTCAGACCGCTAAGACTCACCAGGGCTCAG...</td>\n",
       "    </tr>\n",
       "    <tr>\n",
       "      <th>NC_000098</th>\n",
       "      <td>Species_98 mitochondrion, complete genome</td>\n",
       "      <td>ACTAGCCGCTGGCCCTCCAGGGTAATCGGACTGCAGATATATACTG...</td>\n",
       "    </tr>\n",
       "    <tr>\n",
       "      <th>NC_000099</th>\n",
       "      <td>Species_99 mitochondrion, complete genome</td>\n",
       "      <td>AGCCCATGACTTGGCAGAAGCGAGTCAGTTCTAGATACCCATCCCC...</td>\n",
       "    </tr>\n",
       "    <tr>\n",
       "      <th>NC_000100</th>\n",
       "      <td>Species_100 mitochondrion, complete genome</td>\n",
       "      <td>CATGGTCCACTTCCGCCATCACCGAAGAAAATAGTGGATCTGTTTG...</td>\n",
       "    </tr>\n",
       "  </tbody>\n",
       "</table>\n",
       "<p>100 rows × 2 columns</p>\n",
       "</div>"
      ],
      "text/plain": [
       "                                   sequence_description  \\\n",
       "sequence_id                                               \n",
       "NC_000001      Species_1 mitochondrion, complete genome   \n",
       "NC_000002      Species_2 mitochondrion, complete genome   \n",
       "NC_000003      Species_3 mitochondrion, complete genome   \n",
       "NC_000004      Species_4 mitochondrion, complete genome   \n",
       "NC_000005      Species_5 mitochondrion, complete genome   \n",
       "...                                                 ...   \n",
       "NC_000096     Species_96 mitochondrion, complete genome   \n",
       "NC_000097     Species_97 mitochondrion, complete genome   \n",
       "NC_000098     Species_98 mitochondrion, complete genome   \n",
       "NC_000099     Species_99 mitochondrion, complete genome   \n",
       "NC_000100    Species_100 mitochondrion, complete genome   \n",
       "\n",
       "                                                      sequence  \n",
       "sequence_id                                                     \n",
       "NC_000001    CCGGCAGGAACTGCTAACACATAATCGGCGTTTTGAAGTTCGCAAG...  \n",
       "NC_000002    TAAGTAATCTTGCGCTACACCTGCCTGCTCAAGTTTTTCCCACTAC...  \n",
       "NC_000003    AAGTCAAAGGCGGGATCATTAACGGCCTTGGGCGACGGGAGTGCCA...  \n",
       "NC_000004    CTATGCGTCCACAGGGTGATTACGCTGCCAACGGTAATGCAACAGA...  \n",
       "NC_000005    GTGGGCGGGAGACGGTAATCGGACGCTTCGCTTGTCAAAAGGATTA...  \n",
       "...                                                        ...  \n",
       "NC_000096    ACTCTCCCTATGCTGTTAGAGGTCATATAACTAAAGGTCGTGTAAC...  \n",
       "NC_000097    CACGGCCCTGCGATCTTTCAGACCGCTAAGACTCACCAGGGCTCAG...  \n",
       "NC_000098    ACTAGCCGCTGGCCCTCCAGGGTAATCGGACTGCAGATATATACTG...  \n",
       "NC_000099    AGCCCATGACTTGGCAGAAGCGAGTCAGTTCTAGATACCCATCCCC...  \n",
       "NC_000100    CATGGTCCACTTCCGCCATCACCGAAGAAAATAGTGGATCTGTTTG...  \n",
       "\n",
       "[100 rows x 2 columns]"
      ]
     },
     "execution_count": 2,
     "metadata": {},
     "output_type": "execute_result"
    }
   ],
   "source": [
    "df = FastaParser.parse_file(file_path=\"test_fasta/mtDNA_dataset.txt\")\n",
    "df"
   ]
  },
  {
   "cell_type": "code",
   "execution_count": 3,
   "metadata": {},
   "outputs": [
    {
     "data": {
      "text/plain": [
       "[<gene_classes.DNASequence at 0x25a925929f0>,\n",
       " <gene_classes.DNASequence at 0x25af3861460>,\n",
       " <gene_classes.DNASequence at 0x25a92c184a0>,\n",
       " <gene_classes.DNASequence at 0x25a926ec920>,\n",
       " <gene_classes.DNASequence at 0x25a92e1c8f0>,\n",
       " <gene_classes.DNASequence at 0x25a92b68b00>,\n",
       " <gene_classes.DNASequence at 0x25a92e1ca70>,\n",
       " <gene_classes.DNASequence at 0x25a92e1caa0>,\n",
       " <gene_classes.DNASequence at 0x25a92e1cad0>,\n",
       " <gene_classes.DNASequence at 0x25a92e1cb00>,\n",
       " <gene_classes.DNASequence at 0x25a92e1cb60>,\n",
       " <gene_classes.DNASequence at 0x25a92e1cb30>,\n",
       " <gene_classes.DNASequence at 0x25a92e1cb90>,\n",
       " <gene_classes.DNASequence at 0x25a92e1cbc0>,\n",
       " <gene_classes.DNASequence at 0x25a92e1cbf0>,\n",
       " <gene_classes.DNASequence at 0x25a92e1cc20>,\n",
       " <gene_classes.DNASequence at 0x25a92e1cc50>,\n",
       " <gene_classes.DNASequence at 0x25a92e1cc80>,\n",
       " <gene_classes.DNASequence at 0x25a92e1cce0>,\n",
       " <gene_classes.DNASequence at 0x25a92e1ca10>,\n",
       " <gene_classes.DNASequence at 0x25a92e1cd40>,\n",
       " <gene_classes.DNASequence at 0x25a92e1cda0>,\n",
       " <gene_classes.DNASequence at 0x25a92e1cdd0>,\n",
       " <gene_classes.DNASequence at 0x25a92e1ce00>,\n",
       " <gene_classes.DNASequence at 0x25a92e1ce30>,\n",
       " <gene_classes.DNASequence at 0x25a92e1ce60>,\n",
       " <gene_classes.DNASequence at 0x25a92e1c800>,\n",
       " <gene_classes.DNASequence at 0x25a92e1c9b0>,\n",
       " <gene_classes.DNASequence at 0x25a92e1cd70>,\n",
       " <gene_classes.DNASequence at 0x25a92e1ca40>,\n",
       " <gene_classes.DNASequence at 0x25a92e1ccb0>,\n",
       " <gene_classes.DNASequence at 0x25a92e1cef0>,\n",
       " <gene_classes.DNASequence at 0x25a92e1cf50>,\n",
       " <gene_classes.DNASequence at 0x25a92e1cfb0>,\n",
       " <gene_classes.DNASequence at 0x25a92e1d010>,\n",
       " <gene_classes.DNASequence at 0x25a92e1d070>,\n",
       " <gene_classes.DNASequence at 0x25a92e1d0d0>,\n",
       " <gene_classes.DNASequence at 0x25a92e1d130>,\n",
       " <gene_classes.DNASequence at 0x25a92e1d190>,\n",
       " <gene_classes.DNASequence at 0x25a92e1d1f0>,\n",
       " <gene_classes.DNASequence at 0x25a92e1d250>,\n",
       " <gene_classes.DNASequence at 0x25a92e1d2b0>,\n",
       " <gene_classes.DNASequence at 0x25a92e1d310>,\n",
       " <gene_classes.DNASequence at 0x25a92e1d370>,\n",
       " <gene_classes.DNASequence at 0x25a92e1d3d0>,\n",
       " <gene_classes.DNASequence at 0x25a92e1d430>,\n",
       " <gene_classes.DNASequence at 0x25a92e1d490>,\n",
       " <gene_classes.DNASequence at 0x25a92e1d4f0>,\n",
       " <gene_classes.DNASequence at 0x25a92e1d550>,\n",
       " <gene_classes.DNASequence at 0x25a92e1d5b0>,\n",
       " <gene_classes.DNASequence at 0x25a92e1d610>,\n",
       " <gene_classes.DNASequence at 0x25a92e1d670>,\n",
       " <gene_classes.DNASequence at 0x25a92e1d6d0>,\n",
       " <gene_classes.DNASequence at 0x25a92e1d730>,\n",
       " <gene_classes.DNASequence at 0x25a92e1d790>,\n",
       " <gene_classes.DNASequence at 0x25a92e1d7f0>,\n",
       " <gene_classes.DNASequence at 0x25a92e1d850>,\n",
       " <gene_classes.DNASequence at 0x25a92e1d8b0>,\n",
       " <gene_classes.DNASequence at 0x25a92e1d910>,\n",
       " <gene_classes.DNASequence at 0x25a92e1d970>,\n",
       " <gene_classes.DNASequence at 0x25a92e1d9d0>,\n",
       " <gene_classes.DNASequence at 0x25a92e1da30>,\n",
       " <gene_classes.DNASequence at 0x25a92e1da90>,\n",
       " <gene_classes.DNASequence at 0x25a92e1daf0>,\n",
       " <gene_classes.DNASequence at 0x25a92e1db50>,\n",
       " <gene_classes.DNASequence at 0x25a92e1dbb0>,\n",
       " <gene_classes.DNASequence at 0x25a92e1dc10>,\n",
       " <gene_classes.DNASequence at 0x25a92e1dc70>,\n",
       " <gene_classes.DNASequence at 0x25a92e1dcd0>,\n",
       " <gene_classes.DNASequence at 0x25a92e1dd30>,\n",
       " <gene_classes.DNASequence at 0x25a92e1dd90>,\n",
       " <gene_classes.DNASequence at 0x25a92e1ddf0>,\n",
       " <gene_classes.DNASequence at 0x25a92e1de50>,\n",
       " <gene_classes.DNASequence at 0x25a92e1deb0>,\n",
       " <gene_classes.DNASequence at 0x25a92e1df10>,\n",
       " <gene_classes.DNASequence at 0x25a92e1df70>,\n",
       " <gene_classes.DNASequence at 0x25a92e1dfd0>,\n",
       " <gene_classes.DNASequence at 0x25a92e1e030>,\n",
       " <gene_classes.DNASequence at 0x25a92e1e090>,\n",
       " <gene_classes.DNASequence at 0x25a92e1e0f0>,\n",
       " <gene_classes.DNASequence at 0x25a92e1e150>,\n",
       " <gene_classes.DNASequence at 0x25a92e1e1b0>,\n",
       " <gene_classes.DNASequence at 0x25a92e1e210>,\n",
       " <gene_classes.DNASequence at 0x25a92e1e270>,\n",
       " <gene_classes.DNASequence at 0x25a92e1e2d0>,\n",
       " <gene_classes.DNASequence at 0x25a92e1e330>,\n",
       " <gene_classes.DNASequence at 0x25a92e1e390>,\n",
       " <gene_classes.DNASequence at 0x25a92e1e3f0>,\n",
       " <gene_classes.DNASequence at 0x25a92e1e450>,\n",
       " <gene_classes.DNASequence at 0x25a92e1e4b0>,\n",
       " <gene_classes.DNASequence at 0x25a92e1e510>,\n",
       " <gene_classes.DNASequence at 0x25a92e1e570>,\n",
       " <gene_classes.DNASequence at 0x25a92e1e5d0>,\n",
       " <gene_classes.DNASequence at 0x25a92e1e630>,\n",
       " <gene_classes.DNASequence at 0x25a92e1e690>,\n",
       " <gene_classes.DNASequence at 0x25a92e1e6f0>,\n",
       " <gene_classes.DNASequence at 0x25a92e1e750>,\n",
       " <gene_classes.DNASequence at 0x25a92e1e7b0>,\n",
       " <gene_classes.DNASequence at 0x25a92e1e810>,\n",
       " <gene_classes.DNASequence at 0x25a92e1e870>]"
      ]
     },
     "execution_count": 3,
     "metadata": {},
     "output_type": "execute_result"
    }
   ],
   "source": [
    "list_genes=FastaParser.create_sequence_objects(df=df)\n",
    "list_genes"
   ]
  },
  {
   "cell_type": "code",
   "execution_count": 4,
   "metadata": {},
   "outputs": [
    {
     "data": {
      "text/plain": [
       "<gene_classes.DNASequence at 0x25af3861460>"
      ]
     },
     "execution_count": 4,
     "metadata": {},
     "output_type": "execute_result"
    }
   ],
   "source": [
    "list_genes[1]"
   ]
  },
  {
   "cell_type": "code",
   "execution_count": 5,
   "metadata": {},
   "outputs": [
    {
     "data": {
      "text/plain": [
       "'TAAGTAATCTTGCGCTACACCTGCCTGCTCAAGTTTTTCCCACTACTGCTTAGCGGCATTACCTGGGGCTCTACTGACGTATCAGGGACCCAATCATATTGTAGGTACTGGTCCAACTCTGAGTCAACTAGCCTGCACCTGTGGTTTCTTGTCCGGCCTTGTAAGCCGTAAGGTGCAGACCCACTCGCAAACCCCTGAATATCCAAATCACTATCTACAAGCATCACTATTGACCGTTCGTGAAGGGCGTAATTCGAGGCCGATTTTCATTTCATGCCTCCCATATGCAATTCCACCCTAGATGATGACGGCATTACATGATACACGACTAGCTCAGTCGCACCCAGGACGCTCGCTAGGGGATCGCGACGACCTGCCGGTCTTCTAAGTTCATTAGGTACCCGAGTCGAAGGAATTCGAGATGCTAACTTGGTCTTCCACGATAGTGGAACGTGTCACGGGACAGCCTTACGTGGAATAATAAAGAGTAACCAAGTTGAAGTCGCCAAACTCGCTCACTTTCGTCTGTTATATAAGTGATGAGAAAGCGGTTACGGTCAGTTCAATAGGGACAGCGAGAGGATCGACGGTTAACTTTACTTCTGGCGGGCTAATGACAACTCTTCAAGACTTAGTCAGCTTTATGCCGCCATGGACTATTGACCGGACTGAAGGTATAGTTTAGGGGAAACATCTGATCCAGGCAGAAAAGTTATAACGTAAGGGCCGCAGCTCTATGGATAAACTTGTGGTATGGCTTTTATTGTCTGAGTATTGAGCCGCCCTGTTGGACAGAGAGCGCCAATCCTTGCCAACCTCGAGCTAGGTGTTCCAAGTCAAGTCTTAAAGGAGACCCGCCGAATACCCGTTCGATCACCTGAACGAATACTGTATACATTATCCACCTCGGACACCTAGTGTAGGGTTACCATGAGCATGATCTTTCGTCAAAATGGTGGCCCTATTCCAGCGAGCAGTTCCGGTTCGACACATAGGAGTC'"
      ]
     },
     "execution_count": 5,
     "metadata": {},
     "output_type": "execute_result"
    }
   ],
   "source": [
    "test_gene=list_genes[1]\n",
    "test_gene.sequence"
   ]
  },
  {
   "cell_type": "code",
   "execution_count": 6,
   "metadata": {},
   "outputs": [
    {
     "data": {
      "text/plain": [
       "'48.6%'"
      ]
     },
     "execution_count": 6,
     "metadata": {},
     "output_type": "execute_result"
    }
   ],
   "source": [
    "test_gene.GC_content_percentage()"
   ]
  },
  {
   "cell_type": "code",
   "execution_count": 7,
   "metadata": {},
   "outputs": [
    {
     "data": {
      "text/plain": [
       "{'A': 257, 'C': 250, 'G': 236, 'T': 257}"
      ]
     },
     "execution_count": 7,
     "metadata": {},
     "output_type": "execute_result"
    }
   ],
   "source": [
    "test_gene.base_composition()"
   ]
  },
  {
   "cell_type": "code",
   "execution_count": 8,
   "metadata": {},
   "outputs": [
    {
     "data": {
      "text/plain": [
       "{'A': 25.7, 'C': 25.0, 'G': 23.599999999999998, 'T': 25.7}"
      ]
     },
     "execution_count": 8,
     "metadata": {},
     "output_type": "execute_result"
    }
   ],
   "source": [
    "test_gene.base_composition_percentage()"
   ]
  },
  {
   "cell_type": "code",
   "execution_count": 9,
   "metadata": {},
   "outputs": [
    {
     "data": {
      "text/plain": [
       "[529, 531, 675, 713, 891]"
      ]
     },
     "execution_count": 9,
     "metadata": {},
     "output_type": "execute_result"
    }
   ],
   "source": [
    "test_gene.find_motif(\"TATA\")            #ti dice in che indici della stringa trovi l'inizio di questo motif"
   ]
  },
  {
   "cell_type": "code",
   "execution_count": 10,
   "metadata": {},
   "outputs": [
    {
     "data": {
      "text/plain": [
       "'48.6%'"
      ]
     },
     "execution_count": 10,
     "metadata": {},
     "output_type": "execute_result"
    }
   ],
   "source": [
    "test_gene.GC_content_percentage()"
   ]
  },
  {
   "cell_type": "code",
   "execution_count": 11,
   "metadata": {},
   "outputs": [
    {
     "data": {
      "text/plain": [
       "'DNA'"
      ]
     },
     "execution_count": 11,
     "metadata": {},
     "output_type": "execute_result"
    }
   ],
   "source": [
    "df.iloc[0].sequence\n",
    "\n",
    "def detect_sequence_type(df:pd.DataFrame):\n",
    "    test_sequence=df.iloc[0].sequence\n",
    "    unique_chars = set(test_sequence.upper())\n",
    "    if unique_chars.issubset(set(\"ATCGN\")):\n",
    "        return \"DNA\"\n",
    "    else:\n",
    "        return \"protein\"\n",
    "    \n",
    "detect_sequence_type(df)"
   ]
  },
  {
   "cell_type": "code",
   "execution_count": 12,
   "metadata": {},
   "outputs": [],
   "source": [
    "# Import pairwise2 module\n",
    "from Bio import pairwise2\n",
    "\n",
    "# Import format_alignment method\n",
    "from Bio.pairwise2 import format_alignment"
   ]
  }
 ],
 "metadata": {
  "kernelspec": {
   "display_name": "Python 3",
   "language": "python",
   "name": "python3"
  },
  "language_info": {
   "codemirror_mode": {
    "name": "ipython",
    "version": 3
   },
   "file_extension": ".py",
   "mimetype": "text/x-python",
   "name": "python",
   "nbconvert_exporter": "python",
   "pygments_lexer": "ipython3",
   "version": "3.12.4"
  }
 },
 "nbformat": 4,
 "nbformat_minor": 2
}
